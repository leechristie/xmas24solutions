{
 "cells": [
  {
   "metadata": {},
   "cell_type": "markdown",
   "source": [
    "# Puzzle 3 — Presents go Pop!\n",
    "\n",
    "## Sample Solutions\n",
    "\n",
    "Sample solutions [Puzzle 3](https://leechristie.com/xmas24/3) of my [Christmas Coding Challenge](https://leechristie.com/xmas24).\n",
    "\n",
    "## Loading the Data\n",
    "\n",
    "For this puzzle we will pre-load the data into a list, for both parts we will need to refer to the list."
   ],
   "id": "437388b635d6d8b"
  },
  {
   "metadata": {
    "ExecuteTime": {
     "end_time": "2024-11-14T14:49:23.707759Z",
     "start_time": "2024-11-14T14:49:23.704072Z"
    }
   },
   "cell_type": "code",
   "source": [
    "from decimal import Decimal\n",
    "\n",
    "# for this puzzle sample solution I used Decimal type instead of float as best practice, since we'll be adding up money values\n",
    "# although floating point errors shouldn't really affect us, alternatively we could just convert to pence and add integers\n",
    "GIFT_VALUES : list[Decimal] = []\n",
    "\n",
    "# standard code for looping over a file\n",
    "with open('input3.txt') as file:\n",
    "    for line in file:\n",
    "        line = line.strip()\n",
    "\n",
    "        # convert do Decimal type and append to the gift list\n",
    "        line = Decimal(line)\n",
    "        GIFT_VALUES.append(line)\n",
    "\n",
    "# counting the gifts as we will use this later\n",
    "# I will be using them as globals later, so I named the variables GIFT_VALUES and NUM_GIFTS in all caps (not required, just style)\n",
    "NUM_GIFTS = len(GIFT_VALUES)\n",
    "\n",
    "# global for the number of gifts we want to take\n",
    "NUM_TO_TAKE = 8"
   ],
   "id": "158854ad86c59860",
   "outputs": [],
   "execution_count": 1
  },
  {
   "metadata": {},
   "cell_type": "markdown",
   "source": [
    "# Part 1\n",
    "\n",
    "For Part 1 you are being asked to implement a specific strategy rather than come up with your own idea.\n",
    "\n",
    "The strategy Santa suggests is [a greedy algorithm](https://en.wikipedia.org/wiki/Greedy_algorithm), which is not a specific algorithm it's a general classification of problem-solving heuristics which typically get good, but not optimal solutions to difficult problems. It is often used where no efficient optimal algorithm is known.\n",
    "\n",
    "So here you are testing on implementing the steps Santa outlined in the puzzle.\n",
    "\n",
    "For this solution I chose not to pre-sort the list of items. Sorting would be $O(n\\ \\text{log}n)$, and making use of this would require adding a bunch of extra bookkeeping like tracking the position in a tuple.\n",
    "\n",
    "I just loop over the list twice (implicitly with `max()` and `.index()`) each time we want to take a present, which happens a fixed number of time so this is $O(nk)$ where $k=8$ in our case the number of desired gifts to open. This has better complexity if the number of gifts $n$ grows and the number of gifts to choose $k$ stays the same. It could be improved by looping over once each time to get the arg max, but doing it twice required less code.\n",
    "\n",
    "I can see the $O(n\\ \\text{log}n)$ solution would make sense too."
   ],
   "id": "c2dfec2d77e0b3a6"
  },
  {
   "metadata": {
    "ExecuteTime": {
     "end_time": "2024-11-14T14:49:23.714273Z",
     "start_time": "2024-11-14T14:49:23.711280Z"
    }
   },
   "cell_type": "code",
   "source": [
    "# clone the list as we will edit it to remove unavailable gifts\n",
    "available_presents = GIFT_VALUES.copy()\n",
    "\n",
    "# track the total value\n",
    "taken_total = 0\n",
    "token_count = 0\n",
    "\n",
    "# loop until we have taken 8 gifts\n",
    "while token_count < NUM_TO_TAKE:\n",
    "\n",
    "    # get the maximum value, if 0 we ran out of gifts\n",
    "    next_take = max(available_presents)\n",
    "    assert next_take > 0\n",
    "\n",
    "    # locate the index of the max gift\n",
    "    next_index = available_presents.index(next_take)\n",
    "\n",
    "    # track the chosen value\n",
    "    taken_total += next_take\n",
    "    token_count += 1\n",
    "\n",
    "    # remove the left item from consideration (if we didn't take the leftmost gift)\n",
    "    if next_index > 0:\n",
    "        available_presents[next_index - 1] = 0\n",
    "\n",
    "    # remove the current item from consideration\n",
    "    available_presents[next_index] = 0\n",
    "\n",
    "    # remove the right item from consideration (if we didn't take the rightmost gift)\n",
    "    if next_index < NUM_GIFTS - 1:\n",
    "        available_presents[next_index + 1] = 0\n",
    "    \n",
    "print(f\"The total value of {NUM_TO_TAKE} gifts according to Santa's strategy is £{taken_total:.2f}\")"
   ],
   "id": "3bd71f13cae5fac7",
   "outputs": [
    {
     "name": "stdout",
     "output_type": "stream",
     "text": [
      "The total value of 8 gifts according to Santa's strategy is £4738.61\n"
     ]
    }
   ],
   "execution_count": 2
  },
  {
   "metadata": {},
   "cell_type": "markdown",
   "source": "# Part 2 - Optimum",
   "id": "851b50ec309309e5"
  },
  {
   "metadata": {},
   "cell_type": "markdown",
   "source": [
    "This puzzle was designed to be more difficult to efficiently solve than the other puzzles. It's a variation of a Leetcode problem I saw someone describe on YouTube - I don't remember the video I saw, but here is a write-up from 2021 on [Medium by Prathamesh Kesarkar](https://medium.com/@pratham.kesarkar/leetcode-198-house-robber-cc3d13dcbaf7) which explains it.\n",
    "\n",
    "My puzzle is slightly different as I modified the problem to add the restriction that you are choosing a specific number of elements the original had you take as many items as you want, which means you will need to keep track of one extra piece of information - remaining number of presents to take.\n",
    "\n",
    "The solution below is a recursive solution where you call the function `best_total_value` giving the `lower_index` which is the first present you will **consider** taking (the base call will set this to 0, the first present, and the `gift_limit` is the number of presents you need to take it total.\n",
    "\n",
    "On my computer, without using `@cache`, meaning we do a recursive call even if we have computed this calls before it takes about 5 seconds to run, making **54,696,377** recursive function calls.\n",
    "\n",
    "Adding `@cache` it runs almost instantly as takes only **314** recursive calls. This is because using `@cache`, Python will automatically track which values of `lower_index` and `gift_limit` is has seen before and not call the function again for those values.\n",
    "\n",
    "Alternatively, we can manually compute values for this is a table for $42 \\times 8$ (number of values for `lower_index` and `gift_limit`), which would be a [Dynamic Programming](https://en.wikipedia.org/wiki/Dynamic_programming) solution. Using `@cache` in Python just automates this for us, with the slight downside that it is likely using hash tables in the implementation instead of an array of numbers that would be used in pure implementation of a dynamic programming solution.\n",
    "\n",
    "I think it's easier to follow using recursion and `@cache`, but try implementing the pure Dynamic Programming solution to see.\n",
    "\n",
    "An alternate, but slower method to solve the problem would be computing all possible [k-Combinations](https://en.wikipedia.org/wiki/Combination) for $n=42$ items and $k=8$ (there are **118,030,185**) then checking which don't have adjacent chosen elements, and checking which has the best max total.\n",
    "\n",
    "If you try to brute force all possible length-42 Boolean strings to take or not take then it will be **4,398,046,511,104** combinations, which is likely infeasible."
   ],
   "id": "75db88a6e827277e"
  },
  {
   "metadata": {
    "collapsed": true,
    "ExecuteTime": {
     "end_time": "2024-11-14T14:49:23.769088Z",
     "start_time": "2024-11-14T14:49:23.766976Z"
    }
   },
   "cell_type": "code",
   "source": [
    "from functools import cache\n",
    "\n",
    "@cache\n",
    "def best_total_value(gift_limit: int, lower_index: int=0) -> Decimal:\n",
    "\n",
    "    # we don't need to declare globals if we are read-only, but I think this makes it clear they are used\n",
    "    global NUM_GIFTS, GIFT_VALUES\n",
    "\n",
    "    # check how many available gifts there are from the current considered index\n",
    "    length = NUM_GIFTS - lower_index\n",
    "\n",
    "    # Base Cases\n",
    "    # ----------\n",
    "\n",
    "    # if there are no gifts, or we hit the limit, best total is zero\n",
    "    if length <= 0 or gift_limit <= 0:\n",
    "        return Decimal('0.0')\n",
    "\n",
    "    # if there is only one present left, we take it\n",
    "    if length == 1:\n",
    "        return GIFT_VALUES[lower_index]\n",
    "\n",
    "    # Recursive Case\n",
    "    # --------------\n",
    "\n",
    "    # recursively find the best value we can get if we take this gift\n",
    "    # this means we need to skip ahead 2 (because we can't take the next gift)\n",
    "    # remember to add the value of this gift\n",
    "    take_lower_value = GIFT_VALUES[lower_index] + best_total_value(gift_limit - 1, lower_index + 2)\n",
    "\n",
    "    # recursively find the best value we can get if we don't take this gift\n",
    "    # this means we only skip ahead 1 position because the next gift is still available\n",
    "    # we don't add the value of this gift because we aren't taking it\n",
    "    dont_take_lower_value = best_total_value(gift_limit, lower_index + 1)\n",
    "\n",
    "    # return whichever is best\n",
    "    return max((take_lower_value, dont_take_lower_value))"
   ],
   "id": "initial_id",
   "outputs": [],
   "execution_count": 3
  },
  {
   "metadata": {},
   "cell_type": "markdown",
   "source": "In this cell we simply make the top-level recursive call. This is when `lower_index=0` because we consider the entire list, and `gift_limit=8` because we haven't taken any gifts",
   "id": "5dddd4194b823c4d"
  },
  {
   "metadata": {
    "ExecuteTime": {
     "end_time": "2024-11-14T14:49:23.776365Z",
     "start_time": "2024-11-14T14:49:23.774747Z"
    }
   },
   "cell_type": "code",
   "source": [
    "optimal_val = best_total_value(gift_limit=NUM_TO_TAKE)\n",
    "\n",
    "print(f\"The total value of {NUM_TO_TAKE} gifts according to the optimal strategy is £{optimal_val:.2f}\")"
   ],
   "id": "d6c9c587b71b366c",
   "outputs": [
    {
     "name": "stdout",
     "output_type": "stream",
     "text": [
      "The total value of 8 gifts according to the optimal strategy is £4855.08\n"
     ]
    }
   ],
   "execution_count": 4
  }
 ],
 "metadata": {
  "kernelspec": {
   "display_name": "Python 3",
   "language": "python",
   "name": "python3"
  },
  "language_info": {
   "codemirror_mode": {
    "name": "ipython",
    "version": 2
   },
   "file_extension": ".py",
   "mimetype": "text/x-python",
   "name": "python",
   "nbconvert_exporter": "python",
   "pygments_lexer": "ipython2",
   "version": "2.7.6"
  }
 },
 "nbformat": 4,
 "nbformat_minor": 5
}
