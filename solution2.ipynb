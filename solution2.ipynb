{
 "cells": [
  {
   "metadata": {},
   "cell_type": "markdown",
   "source": [
    "# Puzzle 2 — Seagulls and Chips\n",
    "\n",
    "## Sample Solutions\n",
    "\n",
    "Sample solutions [Puzzle 2](https://leechristie.com/xmas24/2) of my [Christmas Coding Challenge](https://leechristie.com/xmas24).\n",
    "\n",
    "## Loading the Data\n",
    "\n",
    "For this puzzle we will pre-load the data into a list, this is because in Part 2 we sort it."
   ],
   "id": "e71222b8880f2331"
  },
  {
   "metadata": {
    "ExecuteTime": {
     "end_time": "2024-11-14T14:00:55.178235Z",
     "start_time": "2024-11-14T14:00:55.174901Z"
    }
   },
   "cell_type": "code",
   "source": [
    "chip_shops: list[tuple[float, int]] = []\n",
    "\n",
    "# standard code for looping over a file\n",
    "with open('input2.txt') as file:\n",
    "    for line in file:\n",
    "        line = line.strip()\n",
    "\n",
    "        # price and portion size are seperated by a space\n",
    "        price, portion_size = line.split(' ')\n",
    "\n",
    "        # we read the file as a string, we need to convert the values to float and int\n",
    "        price = float(price)\n",
    "        portion_size = int(portion_size)\n",
    "\n",
    "        # append a tuple containing the price and portion size\n",
    "        chip_shops.append((price, portion_size))"
   ],
   "id": "4e617269b33e8a8",
   "outputs": [],
   "execution_count": 1
  },
  {
   "metadata": {},
   "cell_type": "markdown",
   "source": [
    "### Part 1\n",
    "\n",
    "In this code cell we loop over the chip shops and calculate the price per chip to see which is lowest. We could have calcualted chips per price and taken the highest and gotten the same result. Either way is fine."
   ],
   "id": "8078991104ed3df8"
  },
  {
   "metadata": {
    "ExecuteTime": {
     "end_time": "2024-11-14T14:00:55.184486Z",
     "start_time": "2024-11-14T14:00:55.182305Z"
    }
   },
   "cell_type": "code",
   "source": [
    "# track best price per chip and which chip shop that is\n",
    "lowest_price_per_chip = None\n",
    "item_which_is_lowest = None\n",
    "\n",
    "# loop over each chip shop\n",
    "for price, portion_size in chip_shops:\n",
    "\n",
    "    # calculate price per chip\n",
    "    price_per_chip = price / portion_size\n",
    "\n",
    "    # update tracking if we have found a better chip shop\n",
    "    if lowest_price_per_chip is None or price_per_chip < lowest_price_per_chip:\n",
    "        lowest_price_per_chip = price_per_chip\n",
    "        item_which_is_lowest = price, portion_size\n",
    "\n",
    "# get the price and portion size for the best chip shop\n",
    "price, portion_size = item_which_is_lowest\n",
    "\n",
    "print(f'The most cost-effective chip shop has a serving size of {portion_size} chips (price of £{price:.2f})')"
   ],
   "id": "d14234aed1ce6321",
   "outputs": [
    {
     "name": "stdout",
     "output_type": "stream",
     "text": [
      "The most cost-effective chip shop has a serving size of 145 chips (price of £1.26)\n"
     ]
    }
   ],
   "execution_count": 2
  },
  {
   "metadata": {},
   "cell_type": "markdown",
   "source": [
    "### Part 2\n",
    "\n",
    "In Part 2 we are considering a cost/risk trade-off.\n",
    "\n",
    "In technical terms we are trying to find the set of chip shops that are [Pareto non-dominated](https://en.wikipedia.org/wiki/Pareto_front).\n",
    "\n",
    "Below I use a method which is $O(n\\ \\text{log}n)$ as it sorts the set first by price, then by number of seagulls, the loops over this sorted list and each time the number of seagulls decreases, we know we hit a record for best seagulls and the point is in the Pareto front. If you want to understand how this works, try drawing some points in a 2D-plot and numbering the in the sort order to the see the the order they are visited.\n",
    "\n",
    "Even if you don't know how to implement this, you can solve the problem this by simply looping over all pairs of chips shops and eliminating one from the set if it is as the puzzle says a \"skip shop\" (Pareto dominated). The complexity of the simpler solution is $O(n^2)$ which is feasible given the small size of the set."
   ],
   "id": "127a42d3e9bc776d"
  },
  {
   "metadata": {
    "collapsed": true,
    "ExecuteTime": {
     "end_time": "2024-11-14T14:00:55.234395Z",
     "start_time": "2024-11-14T14:00:55.232663Z"
    }
   },
   "cell_type": "code",
   "source": [
    "def calc_front(items: list[tuple[float, int]]) -> list[tuple[float, int]]:\n",
    "\n",
    "    # sort by price then number of seagulls\n",
    "    items: list[tuple[float, int]] = sorted(items)\n",
    "\n",
    "    # the first item in the sort order will always be Pareto non-dominated\n",
    "    # as it has the minimum price of all items, so we record this first\n",
    "    min_seagulls: float = items[0][1]\n",
    "    rv: list[tuple[float, int]] = [items[0]]\n",
    "\n",
    "    # loop over the remainder of the list\n",
    "    for current in items[1:]:\n",
    "\n",
    "        # get the number of seagulls\n",
    "        _, current_seagulls = current\n",
    "\n",
    "        # if we have a new record of number of seagulls, this is in the Pareto non-dominated set\n",
    "        if current_seagulls < min_seagulls:\n",
    "            min_seagulls = current_seagulls\n",
    "            rv.append(current)\n",
    "\n",
    "    return rv"
   ],
   "id": "initial_id",
   "outputs": [],
   "execution_count": 3
  },
  {
   "metadata": {},
   "cell_type": "markdown",
   "source": "Recall that the question asked for the total cost of the chip shops that are worth visting (Pareto non-dominated) after eliminating the \"skip shops\" (Pareto dominated), so we calculate that here.",
   "id": "6b907ab536099a6e"
  },
  {
   "metadata": {
    "ExecuteTime": {
     "end_time": "2024-11-14T14:00:55.239153Z",
     "start_time": "2024-11-14T14:00:55.237589Z"
    }
   },
   "cell_type": "code",
   "source": [
    "front = calc_front(chip_shops)\n",
    "\n",
    "# just sum prices in the Pareto front\n",
    "total_price = 0.0\n",
    "for price, _ in front:\n",
    "    total_price += price\n",
    "\n",
    "print(f'The total price to buy one portion from each of the viable option chip shops is £{total_price:0.2f}')"
   ],
   "id": "81b6257d95b52250",
   "outputs": [
    {
     "name": "stdout",
     "output_type": "stream",
     "text": [
      "The total price to buy one portion from each of the viable option chip shops is £16.46\n"
     ]
    }
   ],
   "execution_count": 4
  }
 ],
 "metadata": {
  "kernelspec": {
   "display_name": "Python 3",
   "language": "python",
   "name": "python3"
  },
  "language_info": {
   "codemirror_mode": {
    "name": "ipython",
    "version": 2
   },
   "file_extension": ".py",
   "mimetype": "text/x-python",
   "name": "python",
   "nbconvert_exporter": "python",
   "pygments_lexer": "ipython2",
   "version": "2.7.6"
  }
 },
 "nbformat": 4,
 "nbformat_minor": 5
}
