{
 "cells": [
  {
   "metadata": {},
   "cell_type": "markdown",
   "source": [
    "# Puzzle 1 — Elf Age Conundrum\n",
    "\n",
    "## Sample Solutions\n",
    "\n",
    "Sample solutions [Puzzle 1](https://leechristie.com/xmas24/1) of my [Christmas Coding Challenge](https://leechristie.com/xmas24).\n",
    "\n",
    "### Common Functions\n",
    "\n",
    "`encode_letter` takes a single letter from `A` to `Z` and converts to a number from `1` to `26`. We need this for Part 1 and Part 2."
   ],
   "id": "6202b4233c99c57"
  },
  {
   "metadata": {
    "ExecuteTime": {
     "end_time": "2024-11-14T14:00:44.191802Z",
     "start_time": "2024-11-14T14:00:44.188436Z"
    }
   },
   "cell_type": "code",
   "source": [
    "def encode_letter(letter: str) -> int:\n",
    "\n",
    "    # when we convert the letter to a number we ignore case,\n",
    "    # even when using case in Part 2\n",
    "    letter = letter.upper()\n",
    "    assert len(letter) == 1 and 'A' <= letter <= 'Z'\n",
    "\n",
    "    # ord (ordinal) converts a character to an ASCII/Unicode number\n",
    "    # subtracting the code for A gives 0 for A, 1 for B, etc.\n",
    "    # so we add 1 since our encoding should start at 1\n",
    "    rv = ord(letter) - ord('A') + 1\n",
    "    assert 1 <= rv <= 26\n",
    "\n",
    "    return rv"
   ],
   "id": "85b831b6f2e60b50",
   "outputs": [],
   "execution_count": 1
  },
  {
   "metadata": {},
   "cell_type": "markdown",
   "source": [
    "### Part 1\n",
    "\n",
    "`calc_age` takes an elf name, encodes each character and sums them."
   ],
   "id": "ea17215e86b4dac5"
  },
  {
   "metadata": {
    "ExecuteTime": {
     "end_time": "2024-11-14T14:00:44.198080Z",
     "start_time": "2024-11-14T14:00:44.196189Z"
    }
   },
   "cell_type": "code",
   "source": [
    "def calc_age(name: str) -> int:\n",
    "\n",
    "    # accumulator for result\n",
    "    rv = 0\n",
    "\n",
    "    # ignore the space\n",
    "    name = name.replace(' ', '')\n",
    "\n",
    "    # loop over each character, encode and add to the sum\n",
    "    for char in name:\n",
    "        rv += encode_letter(char)\n",
    "\n",
    "    return rv"
   ],
   "id": "d5a09777046cb2f3",
   "outputs": [],
   "execution_count": 2
  },
  {
   "metadata": {},
   "cell_type": "markdown",
   "source": "In this code cell we loop over the input file and find the oldest elf using `calc_age` defined above.",
   "id": "3750cc508cb89b88"
  },
  {
   "metadata": {
    "collapsed": true,
    "ExecuteTime": {
     "end_time": "2024-11-14T14:00:44.256034Z",
     "start_time": "2024-11-14T14:00:44.253835Z"
    }
   },
   "cell_type": "code",
   "source": [
    "# we track the maximum elf age seen\n",
    "# optionally, we also track the name of the elf, although not required by the question\n",
    "max_age = None\n",
    "max_elf = None\n",
    "\n",
    "# standard code for looping over a file\n",
    "with open('input1.txt') as file:\n",
    "    for line in file:\n",
    "        line = line.strip()\n",
    "\n",
    "        # get the age of the current elf\n",
    "        age = calc_age(line)\n",
    "\n",
    "        # if this is the oldest elf so far, update\n",
    "        if max_age is None or age > max_age:\n",
    "            max_age = age\n",
    "            max_elf = line\n",
    "\n",
    "print(f'The oldest elf is {max_age} ({max_elf})')"
   ],
   "id": "initial_id",
   "outputs": [
    {
     "name": "stdout",
     "output_type": "stream",
     "text": [
      "The oldest elf is 397 (Chestnutwhisker Marshmallowtoes)\n"
     ]
    }
   ],
   "execution_count": 3
  },
  {
   "metadata": {},
   "cell_type": "markdown",
   "source": [
    "### Part 2\n",
    "\n",
    "`calc_star_code` find the long number assigned to each elf from which we calculate the star sign."
   ],
   "id": "c12260b5a3416286"
  },
  {
   "metadata": {
    "ExecuteTime": {
     "end_time": "2024-11-14T14:00:44.263470Z",
     "start_time": "2024-11-14T14:00:44.261848Z"
    }
   },
   "cell_type": "code",
   "source": [
    "def calc_star_code(name: str) -> int:\n",
    "\n",
    "    # accumulator for result (1 instead of 0 since we are multiplying)\n",
    "    rv = 1\n",
    "\n",
    "    # ignore the space\n",
    "    name = name.replace(' ', '')\n",
    "\n",
    "    # enumerate functions lets us loop over the string, keeping track of position\n",
    "    for position, char in enumerate(name, start=1):\n",
    "\n",
    "        # multiplier according to the puzzle is position cubed if uppercase\n",
    "        # otherwise position squared\n",
    "        if char.isupper():\n",
    "            mul = position ** 3\n",
    "        else:\n",
    "            mul = position ** 2\n",
    "\n",
    "        # reusing the same encoding as before, but multiplying by multiplier\n",
    "        # we multiply all the numbers instead of adding\n",
    "        rv *= encode_letter(char) * mul\n",
    "\n",
    "    return rv"
   ],
   "id": "a75098a7a1a13c31",
   "outputs": [],
   "execution_count": 4
  },
  {
   "metadata": {},
   "cell_type": "markdown",
   "source": "In this code cell we loop over the input file and find the star code and sign for each elf.",
   "id": "41f6990a7df5390c"
  },
  {
   "metadata": {
    "ExecuteTime": {
     "end_time": "2024-11-14T14:00:44.268918Z",
     "start_time": "2024-11-14T14:00:44.266477Z"
    }
   },
   "cell_type": "code",
   "source": [
    "from collections import defaultdict\n",
    "\n",
    "# we keep a mapping from the star sign as a digit (1 to 9) to the list of elves\n",
    "elves_by_sign = defaultdict(list)\n",
    "\n",
    "# standard code for looping over a file\n",
    "with open('input1.txt') as file:\n",
    "    for line in file:\n",
    "        line = line.strip()\n",
    "\n",
    "        # calculate the star code (big long number)\n",
    "        # Python has arbitrary sized integers by default so we won't overflow\n",
    "        code = calc_star_code(line)\n",
    "\n",
    "        # get the first digit by converting to a string and back\n",
    "        first_digit = int(str(code)[0])\n",
    "\n",
    "        # add the elf to the list for this digit\n",
    "        elves_by_sign[first_digit].append(line)\n",
    "\n",
    "# here were find out which list has exactly one item\n",
    "# and raise an error if we find no lists or more than one list\n",
    "num_list_with_one_item = 0\n",
    "unique_sign = None\n",
    "for sign, elves in elves_by_sign.items():\n",
    "    if len(elves) == 1:\n",
    "         num_list_with_one_item += 1\n",
    "         unique_sign = sign\n",
    "assert num_list_with_one_item == 1\n",
    "\n",
    "# this extracts the single item from the list that has one item\n",
    "elf_name, = elves_by_sign[unique_sign]\n",
    "\n",
    "# get the age and star code to print out\n",
    "age = calc_age(elf_name)\n",
    "star_code = calc_star_code(elf_name)\n",
    "\n",
    "print(f'The elf with the unique sign is {age} years old ({elf_name}, star code {star_code})')"
   ],
   "id": "13d05bce5e6cd3f9",
   "outputs": [
    {
     "name": "stdout",
     "output_type": "stream",
     "text": [
      "The elf with the unique sign is 249 years old (Tinselbite Zestycheer, star code 4490663665769193844577279044000375898112000000000000000000)\n"
     ]
    }
   ],
   "execution_count": 5
  }
 ],
 "metadata": {
  "kernelspec": {
   "display_name": "Python 3",
   "language": "python",
   "name": "python3"
  },
  "language_info": {
   "codemirror_mode": {
    "name": "ipython",
    "version": 2
   },
   "file_extension": ".py",
   "mimetype": "text/x-python",
   "name": "python",
   "nbconvert_exporter": "python",
   "pygments_lexer": "ipython2",
   "version": "2.7.6"
  }
 },
 "nbformat": 4,
 "nbformat_minor": 5
}
